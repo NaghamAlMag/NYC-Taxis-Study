{
 "cells": [
  {
   "cell_type": "code",
   "execution_count": 18,
   "metadata": {},
   "outputs": [],
   "source": [
    "import pandas as pd"
   ]
  },
  {
   "cell_type": "code",
   "execution_count": 19,
   "metadata": {},
   "outputs": [],
   "source": [
    "import datetime\n",
    "from datetime import time as dt"
   ]
  },
  {
   "cell_type": "code",
   "execution_count": 20,
   "metadata": {},
   "outputs": [],
   "source": [
    "import matplotlib.pyplot as plt"
   ]
  },
  {
   "cell_type": "code",
   "execution_count": 21,
   "metadata": {},
   "outputs": [],
   "source": [
    "import seaborn as sns"
   ]
  },
  {
   "cell_type": "code",
   "execution_count": 22,
   "metadata": {},
   "outputs": [
    {
     "data": {
      "text/plain": [
       "114"
      ]
     },
     "execution_count": 22,
     "metadata": {},
     "output_type": "execute_result"
    }
   ],
   "source": [
    "import gc\n",
    "gc.collect()"
   ]
  },
  {
   "cell_type": "code",
   "execution_count": 23,
   "metadata": {},
   "outputs": [],
   "source": [
    "#mydatapath=\"yellow_tripdata_2018-01.csv\"\n",
    "#this function to read month's data\n",
    "def data_aggregator(path,columnnumber,chunksize):\n",
    "    df_list = []\n",
    "    for chunk in pd.read_csv(path,usecols=columnnumber, chunksize=chunksize):\n",
    "        df_list.append(pd.DataFrame(chunk).dropna())\n",
    "    result = pd.concat(df_list)\n",
    "    del df_list\n",
    "    return result"
   ]
  },
  {
   "cell_type": "code",
   "execution_count": 24,
   "metadata": {},
   "outputs": [],
   "source": [
    "import requests\n",
    "from bs4 import BeautifulSoup\n",
    "page = requests.get(\"https://github.com/CriMenghini/ADM-2018/blob/master/Homework_2/taxi_zone_lookup.csv\")\n",
    "soup = BeautifulSoup(page.content, 'html.parser')\n",
    "ids=[]\n",
    "bor=[]\n",
    "zon=[]\n",
    "srv_zon=[]\n",
    "cell=0\n",
    "for i in range(2,1327,5):    #FIRSTLY We get all the location ids\n",
    "    a=soup.find_all('td')[i].get_text()  \n",
    "    ids.append(a)\n",
    "    cell=cell+1\n",
    "    \n",
    "cell=0\n",
    "for i in range(3,1328,5):    #Then all the boroughs\n",
    "    a=soup.find_all('td')[i].get_text()\n",
    "    bor.append(a)\n",
    "    cell=cell+1\n",
    "    \n",
    "cell=0\n",
    "for i in range(4,1329,5):   #After that we get al zones\n",
    "    a=soup.find_all('td')[i].get_text()\n",
    "    zon.append(a)\n",
    "    cell=cell+1\n",
    "cell=0\n",
    "for i in range(5,1330,5):    #Finally we get all the seving zones\n",
    "    a=soup.find_all('td')[i].get_text()\n",
    "    srv_zon.append(a)\n",
    "    cell=cell+1\n",
    "# after getting all the informations needed we merged all the lists together\n",
    "data_tuples = list(zip(ids,bor,zon,srv_zon))"
   ]
  },
  {
   "cell_type": "code",
   "execution_count": 25,
   "metadata": {},
   "outputs": [],
   "source": [
    "boroghFrame=pd.DataFrame(data_tuples,columns = [\"PULocationID\", \"Borogh\", \"Zone\", \"srv_zon\"])\n",
    "boroghFrame['PULocationID']=boroghFrame['PULocationID'].apply(int)\n",
    "boroghFrame=boroghFrame[boroghFrame.Borogh !='Unknown']\n",
    "boroghFrame=boroghFrame[boroghFrame.Borogh !='EWR']\n",
    "#this function to merge(join) two dataframes one of them the month's dataframe and second the borogh dataframe\n",
    "def data_aggregator2(df1,df2,oncolumns,jointype):\n",
    "    result = pd.merge(df1, boroghFrame, on=oncolumns,how=jointype)\n",
    "    return result\n",
    "#data_aggregator(df1,boroghFrame,['PULocationID'],\"inner\")"
   ]
  },
  {
   "cell_type": "code",
   "execution_count": 26,
   "metadata": {},
   "outputs": [],
   "source": [
    "data_tuples=None\n",
    "del data_tuples\n",
    "ids=None\n",
    "del ids\n",
    "bor=None\n",
    "del bor\n",
    "zon=None\n",
    "del zon\n",
    "srv_zon=None\n",
    "del srv_zon"
   ]
  },
  {
   "cell_type": "code",
   "execution_count": 27,
   "metadata": {},
   "outputs": [
    {
     "data": {
      "text/plain": [
       "14344"
      ]
     },
     "execution_count": 27,
     "metadata": {},
     "output_type": "execute_result"
    }
   ],
   "source": [
    "gc.collect()"
   ]
  },
  {
   "cell_type": "code",
   "execution_count": 28,
   "metadata": {},
   "outputs": [],
   "source": [
    "#RQ1\n",
    "JanData=\"yellow_tripdata_2018-01.csv\"\n",
    "FebData=\"yellow_tripdata_2018-02.csv\"\n",
    "MarData=\"yellow_tripdata_2018-03.csv\"\n",
    "AprData=\"yellow_tripdata_2018-04.csv\"\n",
    "MayData=\"yellow_tripdata_2018-05.csv\"\n",
    "JunData=\"yellow_tripdata_2018-06.csv\""
   ]
  },
  {
   "cell_type": "code",
   "execution_count": 30,
   "metadata": {},
   "outputs": [],
   "source": [
    "#RQ4 For each month we will import it's data, we choose two columns PULocationID and Payment Type, then we will join this data\n",
    "#with Borough data and group by payment type and borough, to get the count of each payment type in each borough.\n",
    "#After getting the observed data we will plot the count of payment types in each borough and then calculate the chi square and p value. \n",
    "#MAY\n",
    "MayDF=data_aggregator(MayData,[7,9],10000)\n",
    "MayBoroghData=data_aggregator2(MayDF,boroghFrame,['PULocationID'],\"inner\")\n",
    "JunDF=data_aggregator(JunData,[7,9],10000)\n",
    "JunBoroghData=data_aggregator2(JunDF,boroghFrame,['PULocationID'],\"inner\")\n",
    "JunDF=None\n",
    "del JunDF"
   ]
  },
  {
   "cell_type": "code",
   "execution_count": null,
   "metadata": {},
   "outputs": [],
   "source": [
    "AprDF=data_aggregator(AprData,[7,9],10000)\n",
    "AprBoroghData=data_aggregator2(AprDF,boroghFrame,['PULocationID'],\"inner\")\n",
    "AprDF=None\n",
    "del AprDF"
   ]
  },
  {
   "cell_type": "code",
   "execution_count": null,
   "metadata": {},
   "outputs": [],
   "source": [
    "MarDF=data_aggregator(MarData,[7,9],10000)\n",
    "MarBoroghData=data_aggregator2(MarDF,boroghFrame,['PULocationID'],\"inner\")\n",
    "MarDF=None\n",
    "del MarDF"
   ]
  },
  {
   "cell_type": "code",
   "execution_count": null,
   "metadata": {},
   "outputs": [],
   "source": [
    "FebDF=data_aggregator(FebData,[7,9],10000)\n",
    "FebBoroghData=data_aggregator2(FebDF,boroghFrame,['PULocationID'],\"inner\")\n",
    "FebDF=None\n",
    "del FebDF"
   ]
  },
  {
   "cell_type": "code",
   "execution_count": null,
   "metadata": {},
   "outputs": [],
   "source": [
    "JanDF=data_aggregator(JanData,[7,9],10000)\n",
    "JanBoroghData=data_aggregator2(JanDF,boroghFrame,['PULocationID'],\"inner\")\n",
    "JanDF=None\n",
    "del JanDF"
   ]
  },
  {
   "cell_type": "code",
   "execution_count": 40,
   "metadata": {},
   "outputs": [],
   "source": [
    "FullData=pd.concat([JanBoroghData,FebBoroghData,MarBoroghData,AprBoroghData,MayBoroghData,JunBoroghData])"
   ]
  },
  {
   "cell_type": "code",
   "execution_count": 41,
   "metadata": {},
   "outputs": [
    {
     "data": {
      "image/png": "[encoded data removed]",
      "text/plain": [
       "<Figure size 432x288 with 1 Axes>"
      ]
     },
     "metadata": {
      "needs_background": "light"
     },
     "output_type": "display_data"
    },
    {
     "data": {
      "image/png": "[encoded data removed]",
      "text/plain": [
       "<Figure size 432x288 with 1 Axes>"
      ]
     },
     "metadata": {
      "needs_background": "light"
     },
     "output_type": "display_data"
    },
    {
     "data": {
      "image/png": "[encoded data removed]",
      "text/plain": [
       "<Figure size 432x288 with 1 Axes>"
      ]
     },
     "metadata": {
      "needs_background": "light"
     },
     "output_type": "display_data"
    },
    {
     "data": {
      "image/png": "[encoded data removed]",
      "text/plain": [
       "<Figure size 432x288 with 1 Axes>"
      ]
     },
     "metadata": {
      "needs_background": "light"
     },
     "output_type": "display_data"
    },
    {
     "data": {
      "image/png": "[encoded data removed]",
      "text/plain": [
       "<Figure size 432x288 with 1 Axes>"
      ]
     },
     "metadata": {
      "needs_background": "light"
     },
     "output_type": "display_data"
    }
   ],
   "source": [
    "observed=FullData.groupby(['payment_type','Borogh']).size().unstack()\n",
    "for i in range(observed.shape[1]):\n",
    "    observed.iloc[:,i].plot(kind='bar')\n",
    "    plt.legend(loc='upper right')\n",
    "    plt.show()\n",
    "    plt.close()"
   ]
  },
  {
   "cell_type": "code",
   "execution_count": 34,
   "metadata": {},
   "outputs": [
    {
     "data": {
      "text/plain": [
       "(61099.94992709283, 0.0)"
      ]
     },
     "execution_count": 34,
     "metadata": {},
     "output_type": "execute_result"
    }
   ],
   "source": [
    "scs.chi2_contingency(observed)[0:2]"
   ]
  },
  {
   "cell_type": "code",
   "execution_count": 42,
   "metadata": {},
   "outputs": [
    {
     "data": {
      "image/png": "[encoded data removed]",
      "text/plain": [
       "<Figure size 432x288 with 1 Axes>"
      ]
     },
     "metadata": {
      "needs_background": "light"
     },
     "output_type": "display_data"
    }
   ],
   "source": [
    "observed.plot(kind='bar')\n",
    "plt.legend(loc='upper right')\n",
    "plt.show()\n",
    "plt.close()"
   ]
  },
  {
   "cell_type": "code",
   "execution_count": null,
   "metadata": {},
   "outputs": [],
   "source": [
    "We supose that:\n",
    "H0: Payemnet Type is not associated with Boroughs \n",
    "H1: Payemnet Type is associated with Boroughs \n",
    "And the null hypothesis is rejected, since p < 0.001, and a conclusion is made that payment type is associated with boroughs. "
   ]
  }
 ],
 "metadata": {
  "kernelspec": {
   "display_name": "Python 3",
   "language": "python",
   "name": "python3"
  },
  "language_info": {
   "codemirror_mode": {
    "name": "ipython",
    "version": 3
   },
   "file_extension": ".py",
   "mimetype": "text/x-python",
   "name": "python",
   "nbconvert_exporter": "python",
   "pygments_lexer": "ipython3",
   "version": "3.7.0"
  }
 },
 "nbformat": 4,
 "nbformat_minor": 2
}

{
 "cells": [
  {
   "cell_type": "markdown",
   "metadata": {},
   "source": [
    "# Core question 2\n",
    "For the final point of our assignment, we have to use the folium library and plot on the New York map the number of taxis trips. We have to make two different plots: one for the pick ups and one for the pull overs."
   ]
  },
  {
   "cell_type": "markdown",
   "metadata": {},
   "source": [
    "After merging all the data together(all months form 2018), we apply those functions. We also collect .json data from the homework url. We start from the one for the pickups:"
   ]
  },
  {
   "cell_type": "code",
   "execution_count": 1,
   "metadata": {},
   "outputs": [],
   "source": [
    "data = json.loads(requests.get('https://raw.githubusercontent.com/CriMenghini/ADM-2018/master/Homework_2/taxi_zones.json').text)\n",
    "\n",
    "folium.GeoJson(\n",
    "    data,\n",
    "    style_function=lambda feature: {\n",
    "        'fillColor': '#00ff00',\n",
    "        'color': 'Red',\n",
    "        'weight': 0.2,\n",
    "        'dashArray': '1, 1'\n",
    "    }\n",
    ").add_to(NYmap)\n",
    "NYmap.save(os.path.join('results', r\"C:\\Users\\Edoardo\\Desktop\\NYCzones.html\"))\n",
    "df1=PU.groupby(['PULocationID']).groups.keys()\n",
    "PUdf=pandas.DataFrame(index=list(range(1,266)),columns=[])\n",
    "PUdf['zone']=list(range(1,266))\n",
    "final=[]\n",
    "for i in range(1,266):\n",
    "    j=str(i)\n",
    "    if j in dfpickup:\n",
    "        final.append(dfpickup[j])\n",
    "    else:\n",
    "        final.append(0)      \n",
    "PUdf['Taxitrips']=final\n",
    "NYmap2 = folium.Map(\n",
    "    location=[40.7142700, -74.0059700],   \n",
    "    zoom_start=11,                        \n",
    "    tiles='CartoDB positron'              \n",
    ")\n",
    "NYmap2.choropleth(\n",
    "    geo_data=data,  #our geojson datas\n",
    "    data=PUdf,    \n",
    "    columns=['zone', 'Taxitrips'],\n",
    "    key_on='feature.properties.LocationID', \n",
    "    fill_color='Oranges',   #the color scale that we want\n",
    "    fill_opacity=0.8,\n",
    "    line_opacity=0.2,\n",
    "    legend_name='Number of taxi taken in NYC',\n",
    "    highlight=True    \n",
    ")\n",
    "NYmap2.save(os.path.join('results', r\"C:\\Users\\Edoardo\\Desktop\\NYC2zones.html\"))"
   ]
  },
  {
   "cell_type": "markdown",
   "metadata": {},
   "source": [
    "We had output problems so you can find our map here:[Link](https://github.com/Edoardoba/Homework02/blob/master/DROP.PNG)"
   ]
  },
  {
   "cell_type": "markdown",
   "metadata": {},
   "source": [
    "And here is the one for the **pullovers**:"
   ]
  },
  {
   "cell_type": "code",
   "execution_count": 3,
   "metadata": {},
   "outputs": [],
   "source": [
    "DR=df.filter(['DOLocationID'])\n",
    "df1=DR.groupby(['DOLocationID']).groups.keys()\n",
    "dfDR=DR.groupby('DOLocationID')['DOLocationID'].count()\n",
    "DRdf=pandas.DataFrame(index=list(range(1,266)),columns=[])\n",
    "DRdf['zone']=list(range(1,266))\n",
    "final=[]\n",
    "for i in range(1,266):\n",
    "    j=str(i)\n",
    "    if j in dfDR:\n",
    "        final.append(dfdrop[j])\n",
    "    else:\n",
    "        final.append(0)         \n",
    "DRdf['Taxitrips']=final\n",
    "NYmap3 = folium.Map(\n",
    "    location=[40.7142700, -74.0059700],   \n",
    "    zoom_start=11,                        \n",
    "    tiles='CartoDB positron'              \n",
    ")\n",
    "NYmap3.choropleth(\n",
    "    geo_data=data,  #our geojson datas\n",
    "    data=dropdf,    \n",
    "    columns=['zone', 'Taxitrips'],\n",
    "    key_on='feature.properties.LocationID', \n",
    "    fill_color='YlOrBr',   #the color scale that we want\n",
    "    fill_opacity=0.8,\n",
    "    line_opacity=0.2,\n",
    "    legend_name='Number of taxi droped in NYC',\n",
    "    highlight=True    \n",
    ")\n",
    "NYmap3.save(os.path.join('results', r\"C:\\Users\\Edoardo\\Desktop\\NYC3zones.html\"))"
   ]
  },
  {
   "cell_type": "markdown",
   "metadata": {},
   "source": [
    "We had output problems so you can find our map here:[Link](https://github.com/Edoardoba/Homework02/blob/master/PULL.PNG)"
   ]
  },
  {
   "cell_type": "markdown",
   "metadata": {},
   "source": [
    "There are some differences between the two maps. The area on the right side corresponds to the airport. We can immediatly notice that there far more taxis taken there than taxi droppings.This makes sense because usually there more people that goes to the airport by taxi than the people going back to the town with taxi. **Another interesting fact is that in general the taxi taken in the 'centre' of New york are far more dense than the taxi drops**. On the other hand, in the suburbs of New York there far more taken taxi than taxi dropouts. We can suppose, that citizens takes taxis from the suburbs to go in the city centre and the other way round. "
   ]
  }
 ],
 "metadata": {
  "kernelspec": {
   "display_name": "Python 3",
   "language": "python",
   "name": "python3"
  },
  "language_info": {
   "codemirror_mode": {
    "name": "ipython",
    "version": 3
   },
   "file_extension": ".py",
   "mimetype": "text/x-python",
   "name": "python",
   "nbconvert_exporter": "python",
   "pygments_lexer": "ipython3",
   "version": "3.6.5"
  }
 },
 "nbformat": 4,
 "nbformat_minor": 2
}

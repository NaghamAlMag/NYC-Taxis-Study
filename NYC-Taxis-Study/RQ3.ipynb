{
 "cells": [
  {
   "cell_type": "code",
   "execution_count": 1,
   "metadata": {},
   "outputs": [],
   "source": [
    "import pandas as pd"
   ]
  },
  {
   "cell_type": "code",
   "execution_count": 2,
   "metadata": {},
   "outputs": [],
   "source": [
    "import datetime\n",
    "from datetime import time as dt"
   ]
  },
  {
   "cell_type": "code",
   "execution_count": 3,
   "metadata": {},
   "outputs": [],
   "source": [
    "import matplotlib.pyplot as plt"
   ]
  },
  {
   "cell_type": "code",
   "execution_count": 4,
   "metadata": {},
   "outputs": [],
   "source": [
    "import seaborn as sns"
   ]
  },
  {
   "cell_type": "code",
   "execution_count": 5,
   "metadata": {},
   "outputs": [
    {
     "data": {
      "text/plain": [
       "7"
      ]
     },
     "execution_count": 5,
     "metadata": {},
     "output_type": "execute_result"
    }
   ],
   "source": [
    "import gc\n",
    "gc.collect()"
   ]
  },
  {
   "cell_type": "code",
   "execution_count": 6,
   "metadata": {},
   "outputs": [
    {
     "data": {
      "text/plain": [
       "\"df1=data_aggregator(mydatapath,[7],100)\\ndf1['PULocationID']=df1['PULocationID'].apply(int)\""
      ]
     },
     "execution_count": 6,
     "metadata": {},
     "output_type": "execute_result"
    }
   ],
   "source": [
    "#mydatapath=\"yellow_tripdata_2018-01.csv\"\n",
    "#this function to read month's data\n",
    "def data_aggregator(path,columnnumber,chunksize):\n",
    "    df_list = []\n",
    "    for chunk in pd.read_csv(path,usecols=columnnumber, chunksize=chunksize):\n",
    "        df_list.append(pd.DataFrame(chunk).dropna())\n",
    "    result = pd.concat(df_list)\n",
    "    del df_list\n",
    "    return result\n",
    "\"\"\"df1=data_aggregator(mydatapath,[7],100)\n",
    "df1['PULocationID']=df1['PULocationID'].apply(int)\"\"\""
   ]
  },
  {
   "cell_type": "code",
   "execution_count": 8,
   "metadata": {},
   "outputs": [],
   "source": [
    "import requests\n",
    "from bs4 import BeautifulSoup\n",
    "page = requests.get(\"https://github.com/CriMenghini/ADM-2018/blob/master/Homework_2/taxi_zone_lookup.csv\")\n",
    "soup = BeautifulSoup(page.content, 'html.parser')\n",
    "ids=[]\n",
    "bor=[]\n",
    "zon=[]\n",
    "srv_zon=[]\n",
    "cell=0\n",
    "for i in range(2,1327,5):    #FIRSTLY We get all the location ids\n",
    "    a=soup.find_all('td')[i].get_text()  \n",
    "    ids.append(a)\n",
    "    cell=cell+1\n",
    "    \n",
    "cell=0\n",
    "for i in range(3,1328,5):    #Then all the boroughs\n",
    "    a=soup.find_all('td')[i].get_text()\n",
    "    bor.append(a)\n",
    "    cell=cell+1\n",
    "    \n",
    "cell=0\n",
    "for i in range(4,1329,5):   #After that we get al zones\n",
    "    a=soup.find_all('td')[i].get_text()\n",
    "    zon.append(a)\n",
    "    cell=cell+1\n",
    "cell=0\n",
    "for i in range(5,1330,5):    #Finally we get all the seving zones\n",
    "    a=soup.find_all('td')[i].get_text()\n",
    "    srv_zon.append(a)\n",
    "    cell=cell+1\n",
    "# after getting all the informations needed we merged all the lists together\n",
    "data_tuples = list(zip(ids,bor,zon,srv_zon))"
   ]
  },
  {
   "cell_type": "code",
   "execution_count": 9,
   "metadata": {},
   "outputs": [],
   "source": [
    "boroghFrame=pd.DataFrame(data_tuples,columns = [\"PULocationID\", \"Borogh\", \"Zone\", \"srv_zon\"])\n",
    "boroghFrame['PULocationID']=boroghFrame['PULocationID'].apply(int)\n",
    "#boroghFrame=boroghFrame[boroghFrame.Borogh !='Unknown']\n",
    "#boroghFrame=boroghFrame[boroghFrame.Borogh !='EWR']\n",
    "#this function to merge(join) two dataframes one of them the month's dataframe and second the borogh dataframe\n",
    "def data_aggregator2(df1,df2,oncolumns,jointype):\n",
    "    result = pd.merge(df1, boroghFrame, on=oncolumns,how=jointype)\n",
    "    return result\n",
    "#data_aggregator(df1,boroghFrame,['PULocationID'],\"inner\")"
   ]
  },
  {
   "cell_type": "code",
   "execution_count": 10,
   "metadata": {},
   "outputs": [],
   "source": [
    "data_tuples=None\n",
    "del data_tuples\n",
    "ids=None\n",
    "del ids\n",
    "bor=None\n",
    "del bor\n",
    "zon=None\n",
    "del zon\n",
    "srv_zon=None\n",
    "del srv_zon"
   ]
  },
  {
   "cell_type": "code",
   "execution_count": 11,
   "metadata": {},
   "outputs": [
    {
     "data": {
      "text/plain": [
       "21"
      ]
     },
     "execution_count": 11,
     "metadata": {},
     "output_type": "execute_result"
    }
   ],
   "source": [
    "gc.collect()"
   ]
  },
  {
   "cell_type": "code",
   "execution_count": 12,
   "metadata": {},
   "outputs": [],
   "source": [
    "JanData=\"yellow_tripdata_2018-01.csv\"\n",
    "FebData=\"yellow_tripdata_2018-02.csv\"\n",
    "MarData=\"yellow_tripdata_2018-03.csv\"\n",
    "AprData=\"yellow_tripdata_2018-04.csv\"\n",
    "MayData=\"yellow_tripdata_2018-05.csv\"\n",
    "JunData=\"yellow_tripdata_2018-06.csv\""
   ]
  },
  {
   "cell_type": "code",
   "execution_count": 12,
   "metadata": {},
   "outputs": [],
   "source": [
    "#RQ3 All NYC, Here firstly we import the data of each month, we choose two columns, Pickup Datetime and Dropoff Datetime,\n",
    "#we subscript them to get the duration of each trip, then we plot the distribution of the trips.\n",
    "#MAY\n",
    "MayDF=data_aggregator(MayData,[1,2],10000)\n",
    "MayDF['tpep_pickup_datetime']=pd.to_datetime(MayDF['tpep_pickup_datetime'])\n",
    "MayDF['tpep_dropoff_datetime']=pd.to_datetime(MayDF['tpep_dropoff_datetime'])\n",
    "MayDuration=pd.DataFrame(columns=['Duration'])\n",
    "MayDuration['Duration']=(MayDF['tpep_dropoff_datetime']-MayDF['tpep_pickup_datetime']).dt.seconds/60\n",
    "MayDF=None\n",
    "del MayDF\n",
    "gc.collect()\n",
    "MayDuration=MayDuration[MayDuration.Duration>1.0]"
   ]
  },
  {
   "cell_type": "code",
   "execution_count": 13,
   "metadata": {},
   "outputs": [],
   "source": [
    "#JUN\n",
    "JunDF=data_aggregator(JunData,[1,2],10000)\n",
    "JunDF['tpep_pickup_datetime']=pd.to_datetime(JunDF['tpep_pickup_datetime'])\n",
    "JunDF['tpep_dropoff_datetime']=pd.to_datetime(JunDF['tpep_dropoff_datetime'])\n",
    "JunDuration=pd.DataFrame(columns=['Duration'])\n",
    "JunDuration['Duration']=(JunDF['tpep_dropoff_datetime']-JunDF['tpep_pickup_datetime']).dt.seconds/60\n",
    "JunDF=None\n",
    "del JunDF\n",
    "gc.collect()\n",
    "JunDuration=JunDuration[JunDuration.Duration>1.0]"
   ]
  },
  {
   "cell_type": "code",
   "execution_count": 14,
   "metadata": {},
   "outputs": [],
   "source": [
    "#Apr\n",
    "AprDF=data_aggregator(AprData,[1,2],10000)\n",
    "AprDF['tpep_pickup_datetime']=pd.to_datetime(AprDF['tpep_pickup_datetime'])\n",
    "AprDF['tpep_dropoff_datetime']=pd.to_datetime(AprDF['tpep_dropoff_datetime'])\n",
    "AprDuration=pd.DataFrame(columns=['Duration'])\n",
    "AprDuration['Duration']=(AprDF['tpep_dropoff_datetime']-AprDF['tpep_pickup_datetime']).dt.seconds/60\n",
    "AprDF=None\n",
    "del AprDF\n",
    "gc.collect()\n",
    "AprDuration=AprDuration[AprDuration.Duration>1.0]"
   ]
  },
  {
   "cell_type": "code",
   "execution_count": 15,
   "metadata": {},
   "outputs": [],
   "source": [
    "#Mar\n",
    "MarDF=data_aggregator(MarData,[1,2],10000)\n",
    "MarDF['tpep_pickup_datetime']=pd.to_datetime(MarDF['tpep_pickup_datetime'])\n",
    "MarDF['tpep_dropoff_datetime']=pd.to_datetime(MarDF['tpep_dropoff_datetime'])\n",
    "MarDuration=pd.DataFrame(columns=['Duration'])\n",
    "MarDuration['Duration']=(MarDF['tpep_dropoff_datetime']-MarDF['tpep_pickup_datetime']).dt.seconds/60\n",
    "MarDF=None\n",
    "del MarDF\n",
    "gc.collect()\n",
    "MarDuration=MarDuration[MarDuration.Duration>1.0]"
   ]
  },
  {
   "cell_type": "code",
   "execution_count": 16,
   "metadata": {},
   "outputs": [],
   "source": [
    "#Feb\n",
    "FebDF=data_aggregator(FebData,[1,2],10000)\n",
    "FebDF['tpep_pickup_datetime']=pd.to_datetime(FebDF['tpep_pickup_datetime'])\n",
    "FebDF['tpep_dropoff_datetime']=pd.to_datetime(FebDF['tpep_dropoff_datetime'])\n",
    "FebDuration=pd.DataFrame(columns=['Duration'])\n",
    "FebDuration['Duration']=(FebDF['tpep_dropoff_datetime']-FebDF['tpep_pickup_datetime']).dt.seconds/60\n",
    "FebDF=None\n",
    "del FebDF\n",
    "gc.collect()\n",
    "FebDuration=FebDuration[FebDuration.Duration>1.0]"
   ]
  },
  {
   "cell_type": "code",
   "execution_count": 17,
   "metadata": {},
   "outputs": [],
   "source": [
    "#Jan\n",
    "JanDF=data_aggregator(JanData,[1,2],10000)\n",
    "JanDF['tpep_pickup_datetime']=pd.to_datetime(JanDF['tpep_pickup_datetime'])\n",
    "JanDF['tpep_dropoff_datetime']=pd.to_datetime(JanDF['tpep_dropoff_datetime'])\n",
    "JanDuration=pd.DataFrame(columns=['Duration'])\n",
    "JanDuration['Duration']=(JanDF['tpep_dropoff_datetime']-JanDF['tpep_pickup_datetime']).dt.seconds/60\n",
    "JanDF=None\n",
    "del JanDF\n",
    "gc.collect()\n",
    "JanDuration=JanDuration[JanDuration.Duration>1.0]"
   ]
  },
  {
   "cell_type": "code",
   "execution_count": 24,
   "metadata": {},
   "outputs": [],
   "source": [
    "FullData=pd.concat([JanDuration,FebDuration,MarDuration,AprDuration,MayDuration,JunDuration])"
   ]
  },
  {
   "cell_type": "code",
   "execution_count": 25,
   "metadata": {},
   "outputs": [
    {
     "name": "stderr",
     "output_type": "stream",
     "text": [
      "C:\\Users\\Giumas\\Anaconda3\\lib\\site-packages\\scipy\\stats\\stats.py:1713: FutureWarning: Using a non-tuple sequence for multidimensional indexing is deprecated; use `arr[tuple(seq)]` instead of `arr[seq]`. In the future this will be interpreted as an array index, `arr[np.array(seq)]`, which will result either in an error or a different result.\n",
      "  return np.add.reduce(sorted[indexer] * weights, axis=axis) / sumval\n"
     ]
    },
    {
     "data": {
      "image/png": "[encoded data removed]",
      "text/plain": [
       "<Figure size 432x288 with 1 Axes>"
      ]
     },
     "metadata": {
      "needs_background": "light"
     },
     "output_type": "display_data"
    }
   ],
   "source": [
    "sns.distplot(FullData['Duration'], hist=False);"
   ]
  },
  {
   "cell_type": "code",
   "execution_count": 26,
   "metadata": {},
   "outputs": [],
   "source": [
    "FullData=FullData[FullData.Duration < 650]"
   ]
  },
  {
   "cell_type": "code",
   "execution_count": 27,
   "metadata": {},
   "outputs": [
    {
     "name": "stderr",
     "output_type": "stream",
     "text": [
      "C:\\Users\\Giumas\\Anaconda3\\lib\\site-packages\\scipy\\stats\\stats.py:1713: FutureWarning: Using a non-tuple sequence for multidimensional indexing is deprecated; use `arr[tuple(seq)]` instead of `arr[seq]`. In the future this will be interpreted as an array index, `arr[np.array(seq)]`, which will result either in an error or a different result.\n",
      "  return np.add.reduce(sorted[indexer] * weights, axis=axis) / sumval\n"
     ]
    },
    {
     "data": {
      "image/png": "[encoded data removed]",
      "text/plain": [
       "<Figure size 432x288 with 1 Axes>"
      ]
     },
     "metadata": {
      "needs_background": "light"
     },
     "output_type": "display_data"
    }
   ],
   "source": [
    "sns.distplot(FullData['Duration'], hist=False);"
   ]
  },
  {
   "cell_type": "markdown",
   "metadata": {},
   "source": [
    "From the previous plot we find that the distribution of the trips duration is the chi square distirbution."
   ]
  },
  {
   "cell_type": "code",
   "execution_count": 13,
   "metadata": {},
   "outputs": [],
   "source": [
    "#RQ3 Borough Case\n",
    "MayDF=data_aggregator(MayData,[1,2,7],10000)"
   ]
  },
  {
   "cell_type": "code",
   "execution_count": 14,
   "metadata": {},
   "outputs": [],
   "source": [
    "MayBoroghData=data_aggregator2(MayDF,boroghFrame,['PULocationID'],\"inner\")"
   ]
  },
  {
   "cell_type": "code",
   "execution_count": 15,
   "metadata": {},
   "outputs": [
    {
     "data": {
      "text/plain": [
       "21"
      ]
     },
     "execution_count": 15,
     "metadata": {},
     "output_type": "execute_result"
    }
   ],
   "source": [
    "MayDF=None\n",
    "del MayDF\n",
    "gc.collect()"
   ]
  },
  {
   "cell_type": "code",
   "execution_count": 16,
   "metadata": {},
   "outputs": [],
   "source": [
    "MayBoroghDF=pd.DataFrame(columns=['pickup','dropoff','borogh'])"
   ]
  },
  {
   "cell_type": "code",
   "execution_count": 17,
   "metadata": {},
   "outputs": [],
   "source": [
    "MayBoroghDF['pickup']=pd.to_datetime(MayBoroghData['tpep_pickup_datetime'])\n",
    "MayBoroghDF['dropoff']=pd.to_datetime(MayBoroghData['tpep_dropoff_datetime'])"
   ]
  },
  {
   "cell_type": "code",
   "execution_count": 18,
   "metadata": {},
   "outputs": [],
   "source": [
    "MayBoroghDF['borogh']=MayBoroghData['Borogh']"
   ]
  },
  {
   "cell_type": "code",
   "execution_count": 19,
   "metadata": {},
   "outputs": [],
   "source": [
    "MayBoroghData=None\n",
    "del MayBoroghData"
   ]
  },
  {
   "cell_type": "code",
   "execution_count": 20,
   "metadata": {},
   "outputs": [],
   "source": [
    "MayDuration=pd.DataFrame(columns=['Duration','Borogh'])"
   ]
  },
  {
   "cell_type": "code",
   "execution_count": 21,
   "metadata": {},
   "outputs": [],
   "source": [
    "MayDuration['Duration']=(MayBoroghDF['dropoff']-MayBoroghDF['pickup']).dt.seconds/60"
   ]
  },
  {
   "cell_type": "code",
   "execution_count": 22,
   "metadata": {},
   "outputs": [],
   "source": [
    "MayDuration['Borogh']=MayBoroghDF['borogh']"
   ]
  },
  {
   "cell_type": "code",
   "execution_count": 23,
   "metadata": {},
   "outputs": [],
   "source": [
    "MayBoroghDF=None\n",
    "del MayBoroghDF"
   ]
  },
  {
   "cell_type": "code",
   "execution_count": 24,
   "metadata": {},
   "outputs": [],
   "source": [
    "MayDuration=MayDuration[MayDuration.Duration>1.0]"
   ]
  },
  {
   "cell_type": "code",
   "execution_count": 25,
   "metadata": {},
   "outputs": [],
   "source": [
    "MayDuration=MayDuration[MayDuration.Duration<650.0]"
   ]
  },
  {
   "cell_type": "code",
   "execution_count": 26,
   "metadata": {},
   "outputs": [
    {
     "data": {
      "text/plain": [
       "46"
      ]
     },
     "execution_count": 26,
     "metadata": {},
     "output_type": "execute_result"
    }
   ],
   "source": [
    "gc.collect()"
   ]
  },
  {
   "cell_type": "code",
   "execution_count": 27,
   "metadata": {},
   "outputs": [],
   "source": [
    "#RQ3 June\n",
    "JunDF=data_aggregator(JunData,[1,2,7],10000)\n",
    "JunBoroghData=data_aggregator2(JunDF,boroghFrame,['PULocationID'],\"inner\")\n",
    "JunDF=None\n",
    "del JunDF\n",
    "gc.collect()\n",
    "\n",
    "JunBoroghDF=pd.DataFrame(columns=['pickup','dropoff','borogh'])\n",
    "JunBoroghDF['pickup']=pd.to_datetime(JunBoroghData['tpep_pickup_datetime'])\n",
    "JunBoroghDF['dropoff']=pd.to_datetime(JunBoroghData['tpep_dropoff_datetime'])\n",
    "JunBoroghDF['borogh']=JunBoroghData['Borogh']\n",
    "JunBoroghData=None\n",
    "del JunBoroghData\n",
    "\n",
    "JunDuration=pd.DataFrame(columns=['Duration','Borogh'])\n",
    "JunDuration['Duration']=(JunBoroghDF['dropoff']-JunBoroghDF['pickup']).dt.seconds/60\n",
    "JunDuration['Borogh']=JunBoroghDF['borogh']\n",
    "JunBoroghDF=None\n",
    "del JunBoroghDF\n",
    "\n",
    "JunDuration=JunDuration[JunDuration.Duration>1.0]\n",
    "JunDuration=JunDuration[JunDuration.Duration<650.0]"
   ]
  },
  {
   "cell_type": "code",
   "execution_count": 28,
   "metadata": {},
   "outputs": [],
   "source": [
    "#RQ3 Apr\n",
    "AprDF=data_aggregator(AprData,[1,2,7],10000)\n",
    "AprBoroghData=data_aggregator2(AprDF,boroghFrame,['PULocationID'],\"inner\")\n",
    "AprDF=None\n",
    "del AprDF\n",
    "gc.collect()\n",
    "\n",
    "AprBoroghDF=pd.DataFrame(columns=['pickup','dropoff','borogh'])\n",
    "AprBoroghDF['pickup']=pd.to_datetime(AprBoroghData['tpep_pickup_datetime'])\n",
    "AprBoroghDF['dropoff']=pd.to_datetime(AprBoroghData['tpep_dropoff_datetime'])\n",
    "AprBoroghDF['borogh']=AprBoroghData['Borogh']\n",
    "AprBoroghData=None\n",
    "del AprBoroghData\n",
    "\n",
    "AprDuration=pd.DataFrame(columns=['Duration','Borogh'])\n",
    "AprDuration['Duration']=(AprBoroghDF['dropoff']-AprBoroghDF['pickup']).dt.seconds/60\n",
    "AprDuration['Borogh']=AprBoroghDF['borogh']\n",
    "AprBoroghDF=None\n",
    "del AprBoroghDF\n",
    "\n",
    "AprDuration=AprDuration[AprDuration.Duration>1.0]\n",
    "AprDuration=AprDuration[AprDuration.Duration<650.0]"
   ]
  },
  {
   "cell_type": "code",
   "execution_count": 29,
   "metadata": {},
   "outputs": [],
   "source": [
    "#RQ3 Mar\n",
    "MarDF=data_aggregator(MarData,[1,2,7],10000)\n",
    "MarBoroghData=data_aggregator2(MarDF,boroghFrame,['PULocationID'],\"inner\")\n",
    "MarDF=None\n",
    "del MarDF\n",
    "gc.collect()\n",
    "\n",
    "MarBoroghDF=pd.DataFrame(columns=['pickup','dropoff','borogh'])\n",
    "MarBoroghDF['pickup']=pd.to_datetime(MarBoroghData['tpep_pickup_datetime'])\n",
    "MarBoroghDF['dropoff']=pd.to_datetime(MarBoroghData['tpep_dropoff_datetime'])\n",
    "MarBoroghDF['borogh']=MarBoroghData['Borogh']\n",
    "MarBoroghData=None\n",
    "del MarBoroghData\n",
    "\n",
    "MarDuration=pd.DataFrame(columns=['Duration','Borogh'])\n",
    "MarDuration['Duration']=(MarBoroghDF['dropoff']-MarBoroghDF['pickup']).dt.seconds/60\n",
    "MarDuration['Borogh']=MarBoroghDF['borogh']\n",
    "MarBoroghDF=None\n",
    "del MarBoroghDF\n",
    "\n",
    "MarDuration=MarDuration[MarDuration.Duration>1.0]\n",
    "MarDuration=MarDuration[MarDuration.Duration<650.0]"
   ]
  },
  {
   "cell_type": "code",
   "execution_count": 30,
   "metadata": {},
   "outputs": [],
   "source": [
    "#RQ3 Feb\n",
    "FebDF=data_aggregator(FebData,[1,2,7],10000)\n",
    "FebBoroghData=data_aggregator2(FebDF,boroghFrame,['PULocationID'],\"inner\")\n",
    "FebDF=None\n",
    "del FebDF\n",
    "gc.collect()\n",
    "\n",
    "FebBoroghDF=pd.DataFrame(columns=['pickup','dropoff','borogh'])\n",
    "FebBoroghDF['pickup']=pd.to_datetime(FebBoroghData['tpep_pickup_datetime'])\n",
    "FebBoroghDF['dropoff']=pd.to_datetime(FebBoroghData['tpep_dropoff_datetime'])\n",
    "FebBoroghDF['borogh']=FebBoroghData['Borogh']\n",
    "FebBoroghData=None\n",
    "del FebBoroghData\n",
    "\n",
    "FebDuration=pd.DataFrame(columns=['Duration','Borogh'])\n",
    "FebDuration['Duration']=(FebBoroghDF['dropoff']-FebBoroghDF['pickup']).dt.seconds/60\n",
    "FebDuration['Borogh']=FebBoroghDF['borogh']\n",
    "FebBoroghDF=None\n",
    "del FebBoroghDF\n",
    "FebDuration=FebDuration[FebDuration.Duration>1.0]\n",
    "FebDuration=FebDuration[FebDuration.Duration<650.0]"
   ]
  },
  {
   "cell_type": "code",
   "execution_count": 31,
   "metadata": {},
   "outputs": [],
   "source": [
    "#RQ3 Jan\n",
    "JanDF=data_aggregator(JanData,[1,2,7],10000)\n",
    "JanBoroghData=data_aggregator2(JanDF,boroghFrame,['PULocationID'],\"inner\")\n",
    "JanDF=None\n",
    "del JanDF\n",
    "gc.collect()\n",
    "\n",
    "JanBoroghDF=pd.DataFrame(columns=['pickup','dropoff','borogh'])\n",
    "JanBoroghDF['pickup']=pd.to_datetime(JanBoroghData['tpep_pickup_datetime'])\n",
    "JanBoroghDF['dropoff']=pd.to_datetime(JanBoroghData['tpep_dropoff_datetime'])\n",
    "JanBoroghDF['borogh']=JanBoroghData['Borogh']\n",
    "JanBoroghData=None\n",
    "del JanBoroghData\n",
    "\n",
    "JanDuration=pd.DataFrame(columns=['Duration','Borogh'])\n",
    "JanDuration['Duration']=(JanBoroghDF['dropoff']-JanBoroghDF['pickup']).dt.seconds/60\n",
    "JanDuration['Borogh']=JanBoroghDF['borogh']\n",
    "JanBoroghDF=None\n",
    "del JanBoroghDF\n",
    "\n",
    "JanDuration=JanDuration[JanDuration.Duration>1.0]\n",
    "JanDuration=JanDuration[JanDuration.Duration<650.0]"
   ]
  },
  {
   "cell_type": "code",
   "execution_count": 39,
   "metadata": {},
   "outputs": [],
   "source": [
    "Duration=pd.concat([JanDuration,FebDuration,MarDuration,AprDuration,MayDuration,JunDuration])"
   ]
  },
  {
   "cell_type": "code",
   "execution_count": 40,
   "metadata": {},
   "outputs": [
    {
     "name": "stderr",
     "output_type": "stream",
     "text": [
      "C:\\Users\\Giumas\\Anaconda3\\lib\\site-packages\\scipy\\stats\\stats.py:1713: FutureWarning: Using a non-tuple sequence for multidimensional indexing is deprecated; use `arr[tuple(seq)]` instead of `arr[seq]`. In the future this will be interpreted as an array index, `arr[np.array(seq)]`, which will result either in an error or a different result.\n",
      "  return np.add.reduce(sorted[indexer] * weights, axis=axis) / sumval\n"
     ]
    },
    {
     "data": {
      "image/png": "[encoded data removed]",
      "text/plain": [
       "<Figure size 360x720 with 5 Axes>"
      ]
     },
     "metadata": {
      "needs_background": "light"
     },
     "output_type": "display_data"
    }
   ],
   "source": [
    "f, (ax1, ax2,ax3,ax4,ax5) = plt.subplots(5,figsize=(5, 10))\n",
    "m=Duration.loc[Duration['Borogh']=='Manhattan']\n",
    "sns.distplot(m['Duration'], hist=False,ax=ax1);\n",
    "m=Duration.loc[Duration['Borogh']=='Queens']\n",
    "sns.distplot(m['Duration'], hist=False,ax=ax2);\n",
    "m=Duration.loc[Duration['Borogh']=='Bronx']\n",
    "sns.distplot(m['Duration'], hist=False,ax=ax3);\n",
    "m=Duration.loc[Duration['Borogh']=='Brooklyn']\n",
    "sns.distplot(m['Duration'], hist=False,ax=ax4);\n",
    "m=Duration.loc[Duration['Borogh']=='Staten Island']\n",
    "sns.distplot(m['Duration'], hist=False,ax=ax5);"
   ]
  },
  {
   "cell_type": "code",
   "execution_count": null,
   "metadata": {},
   "outputs": [],
   "source": [
    "From the previous plots we find that the distribution of the trips duration is the chi square distirbution."
   ]
  }
 ],
 "metadata": {
  "kernelspec": {
   "display_name": "Python 3",
   "language": "python",
   "name": "python3"
  },
  "language_info": {
   "codemirror_mode": {
    "name": "ipython",
    "version": 3
   },
   "file_extension": ".py",
   "mimetype": "text/x-python",
   "name": "python",
   "nbconvert_exporter": "python",
   "pygments_lexer": "ipython3",
   "version": "3.7.0"
  }
 },
 "nbformat": 4,
 "nbformat_minor": 2
}

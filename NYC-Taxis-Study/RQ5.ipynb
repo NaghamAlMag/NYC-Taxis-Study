{
 "cells": [
  {
   "cell_type": "code",
   "execution_count": 1,
   "metadata": {},
   "outputs": [],
   "source": [
    "import pandas as pd"
   ]
  },
  {
   "cell_type": "code",
   "execution_count": 2,
   "metadata": {},
   "outputs": [],
   "source": [
    "import datetime\n",
    "from datetime import time as dt"
   ]
  },
  {
   "cell_type": "code",
   "execution_count": 3,
   "metadata": {},
   "outputs": [],
   "source": [
    "import matplotlib.pyplot as plt"
   ]
  },
  {
   "cell_type": "code",
   "execution_count": 4,
   "metadata": {},
   "outputs": [],
   "source": [
    "import seaborn as sns"
   ]
  },
  {
   "cell_type": "code",
   "execution_count": 5,
   "metadata": {},
   "outputs": [
    {
     "data": {
      "text/plain": [
       "7"
      ]
     },
     "execution_count": 5,
     "metadata": {},
     "output_type": "execute_result"
    }
   ],
   "source": [
    "import gc\n",
    "gc.collect()"
   ]
  },
  {
   "cell_type": "code",
   "execution_count": 6,
   "metadata": {},
   "outputs": [],
   "source": [
    "#mydatapath=\"yellow_tripdata_2018-01.csv\"\n",
    "#this function to read month's data\n",
    "def data_aggregator(path,columnnumber,chunksize):\n",
    "    df_list = []\n",
    "    for chunk in pd.read_csv(path,usecols=columnnumber, chunksize=chunksize):\n",
    "        df_list.append(pd.DataFrame(chunk).dropna())\n",
    "    result = pd.concat(df_list)\n",
    "    del df_list\n",
    "    return result"
   ]
  },
  {
   "cell_type": "code",
   "execution_count": 7,
   "metadata": {},
   "outputs": [],
   "source": [
    "JanData=\"yellow_tripdata_2018-01.csv\"\n",
    "FebData=\"yellow_tripdata_2018-02.csv\"\n",
    "MarData=\"yellow_tripdata_2018-03.csv\"\n",
    "AprData=\"yellow_tripdata_2018-04.csv\"\n",
    "MayData=\"yellow_tripdata_2018-05.csv\"\n",
    "JunData=\"yellow_tripdata_2018-06.csv\""
   ]
  },
  {
   "cell_type": "code",
   "execution_count": 8,
   "metadata": {},
   "outputs": [],
   "source": [
    "MayDF=data_aggregator(MayData,[1,2,4],10000)"
   ]
  },
  {
   "cell_type": "code",
   "execution_count": 9,
   "metadata": {},
   "outputs": [],
   "source": [
    "MayData=pd.DataFrame(columns=['pickup','dropoff','distance'])\n",
    "MayData['pickup']=pd.to_datetime(MayDF['tpep_pickup_datetime'])\n",
    "MayData['dropoff']=pd.to_datetime(MayDF['tpep_dropoff_datetime'])\n",
    "MayData['distance']=MayDF['trip_distance']\n",
    "MayDF=None\n",
    "del MayDF"
   ]
  },
  {
   "cell_type": "code",
   "execution_count": 10,
   "metadata": {},
   "outputs": [],
   "source": [
    "MayDuration=pd.DataFrame(columns=['Duration','Distance'])\n",
    "MayDuration['Duration']=(MayData['dropoff']-MayData['pickup']).dt.seconds/60\n",
    "MayDuration['Distance']=MayData['distance']\n",
    "MayData=None\n",
    "del MayData"
   ]
  },
  {
   "cell_type": "code",
   "execution_count": 12,
   "metadata": {},
   "outputs": [],
   "source": [
    "MayDuration=MayDuration[MayDuration.Duration > 1.0]"
   ]
  },
  {
   "cell_type": "code",
   "execution_count": 13,
   "metadata": {},
   "outputs": [],
   "source": [
    "MayDuration=MayDuration[MayDuration.Distance > 0.0]"
   ]
  },
  {
   "cell_type": "code",
   "execution_count": 14,
   "metadata": {},
   "outputs": [],
   "source": [
    "JunDF=data_aggregator(JunData,[1,2,4],10000)"
   ]
  },
  {
   "cell_type": "code",
   "execution_count": 15,
   "metadata": {},
   "outputs": [],
   "source": [
    "JunData=pd.DataFrame(columns=['pickup','dropoff','distance'])\n",
    "JunData['pickup']=pd.to_datetime(JunDF['tpep_pickup_datetime'])\n",
    "JunData['dropoff']=pd.to_datetime(JunDF['tpep_dropoff_datetime'])\n",
    "JunData['distance']=JunDF['trip_distance']\n",
    "JunDF=None\n",
    "del JunDF"
   ]
  },
  {
   "cell_type": "code",
   "execution_count": 16,
   "metadata": {},
   "outputs": [],
   "source": [
    "JunDuration=pd.DataFrame(columns=['Duration','Distance'])\n",
    "JunDuration['Duration']=(JunData['dropoff']-JunData['pickup']).dt.seconds/60\n",
    "JunDuration['Distance']=JunData['distance']\n",
    "JunData=None\n",
    "del JunData"
   ]
  },
  {
   "cell_type": "code",
   "execution_count": 17,
   "metadata": {},
   "outputs": [],
   "source": [
    "JunDuration=JunDuration[JunDuration.Duration > 1]"
   ]
  },
  {
   "cell_type": "code",
   "execution_count": 18,
   "metadata": {},
   "outputs": [],
   "source": [
    "JunDuration=JunDuration[JunDuration.Distance > 0.0]"
   ]
  },
  {
   "cell_type": "code",
   "execution_count": 19,
   "metadata": {},
   "outputs": [],
   "source": [
    "FebDF=data_aggregator(FebData,[1,2,4],10000)"
   ]
  },
  {
   "cell_type": "code",
   "execution_count": 20,
   "metadata": {},
   "outputs": [],
   "source": [
    "FebData=pd.DataFrame(columns=['pickup','dropoff','distance'])\n",
    "FebData['pickup']=pd.to_datetime(FebDF['tpep_pickup_datetime'])\n",
    "FebData['dropoff']=pd.to_datetime(FebDF['tpep_dropoff_datetime'])\n",
    "FebData['distance']=FebDF['trip_distance']\n",
    "FebDF=None\n",
    "del FebDF"
   ]
  },
  {
   "cell_type": "code",
   "execution_count": 21,
   "metadata": {},
   "outputs": [],
   "source": [
    "FebDuration=pd.DataFrame(columns=['Duration','Distance'])\n",
    "FebDuration['Duration']=(FebData['dropoff']-FebData['pickup']).dt.seconds/60\n",
    "FebDuration['Distance']=FebData['distance']"
   ]
  },
  {
   "cell_type": "code",
   "execution_count": 22,
   "metadata": {},
   "outputs": [],
   "source": [
    "FebBoroghDF=None\n",
    "del FebBoroghDF"
   ]
  },
  {
   "cell_type": "code",
   "execution_count": 24,
   "metadata": {},
   "outputs": [],
   "source": [
    "FebDuration=FebDuration[FebDuration.Duration > 1]\n",
    "FebDuration=FebDuration[FebDuration.Distance > 0]"
   ]
  },
  {
   "cell_type": "code",
   "execution_count": 26,
   "metadata": {},
   "outputs": [],
   "source": [
    "MarDF=data_aggregator(MarData,[1,2,4],10000)"
   ]
  },
  {
   "cell_type": "code",
   "execution_count": 27,
   "metadata": {},
   "outputs": [],
   "source": [
    "MarData=pd.DataFrame(columns=['pickup','dropoff','distance'])\n",
    "MarData['pickup']=pd.to_datetime(MarDF['tpep_pickup_datetime'])\n",
    "MarData['dropoff']=pd.to_datetime(MarDF['tpep_dropoff_datetime'])\n",
    "MarData['distance']=MarDF['trip_distance']\n",
    "MarDF=None\n",
    "del MarDF"
   ]
  },
  {
   "cell_type": "code",
   "execution_count": 28,
   "metadata": {},
   "outputs": [],
   "source": [
    "MarDuration=pd.DataFrame(columns=['Duration','Distance'])\n",
    "MarDuration['Duration']=(MarData['dropoff']-MarData['pickup']).dt.seconds/60\n",
    "MarDuration['Distance']=MarData['distance']\n",
    "MarBoroghDF=None\n",
    "del MarBoroghDF"
   ]
  },
  {
   "cell_type": "code",
   "execution_count": 29,
   "metadata": {},
   "outputs": [],
   "source": [
    "MarDuration=MarDuration[MarDuration.Duration > 1]\n",
    "MarDuration=MarDuration[MarDuration.Distance > 0]"
   ]
  },
  {
   "cell_type": "code",
   "execution_count": 30,
   "metadata": {},
   "outputs": [],
   "source": [
    "AprDF=data_aggregator(AprData,[1,2,4],10000)"
   ]
  },
  {
   "cell_type": "code",
   "execution_count": 31,
   "metadata": {},
   "outputs": [],
   "source": [
    "AprData=pd.DataFrame(columns=['pickup','dropoff','distance'])\n",
    "AprData['pickup']=pd.to_datetime(AprDF['tpep_pickup_datetime'])\n",
    "AprData['dropoff']=pd.to_datetime(AprDF['tpep_dropoff_datetime'])\n",
    "AprData['distance']=AprDF['trip_distance']\n",
    "AprDF=None\n",
    "del AprDF"
   ]
  },
  {
   "cell_type": "code",
   "execution_count": 32,
   "metadata": {},
   "outputs": [],
   "source": [
    "AprDuration=pd.DataFrame(columns=['Duration','Distance'])\n",
    "AprDuration['Duration']=(AprData['dropoff']-AprData['pickup']).dt.seconds/60\n",
    "AprDuration['Distance']=AprData['distance']\n",
    "AprData=None\n",
    "del AprData"
   ]
  },
  {
   "cell_type": "code",
   "execution_count": 33,
   "metadata": {},
   "outputs": [],
   "source": [
    "AprDuration=AprDuration[AprDuration.Duration > 1]\n",
    "AprDuration=AprDuration[AprDuration.Distance > 0]"
   ]
  },
  {
   "cell_type": "code",
   "execution_count": 34,
   "metadata": {},
   "outputs": [],
   "source": [
    "JanDF=data_aggregator(JanData,[1,2,4],10000)"
   ]
  },
  {
   "cell_type": "code",
   "execution_count": 35,
   "metadata": {},
   "outputs": [],
   "source": [
    "JanData=pd.DataFrame(columns=['pickup','dropoff','distance'])\n",
    "JanData['pickup']=pd.to_datetime(JanDF['tpep_pickup_datetime'])\n",
    "JanData['dropoff']=pd.to_datetime(JanDF['tpep_dropoff_datetime'])\n",
    "JanData['distance']=JanDF['trip_distance']\n",
    "JanDF=None\n",
    "del JanDF"
   ]
  },
  {
   "cell_type": "code",
   "execution_count": 36,
   "metadata": {},
   "outputs": [],
   "source": [
    "JanDuration=pd.DataFrame(columns=['Duration','Distance'])\n",
    "JanDuration['Duration']=(JanData['dropoff']-JanData['pickup']).dt.seconds/60\n",
    "JanDuration['Distance']=JanData['distance']\n",
    "JanData=None\n",
    "del JanData"
   ]
  },
  {
   "cell_type": "code",
   "execution_count": 37,
   "metadata": {},
   "outputs": [],
   "source": [
    "JanDuration=JanDuration[JanDuration.Duration > 1]\n",
    "JanDuration=JanDuration[JanDuration.Distance > 0]"
   ]
  },
  {
   "cell_type": "code",
   "execution_count": 38,
   "metadata": {},
   "outputs": [],
   "source": [
    "FullData=pd.concat([JanDuration,FebDuration,MarDuration,AprDuration,MayDuration,JunDuration])"
   ]
  },
  {
   "cell_type": "code",
   "execution_count": 41,
   "metadata": {},
   "outputs": [
    {
     "data": {
      "text/plain": [
       "Text(0,0.5,'Distance')"
      ]
     },
     "execution_count": 41,
     "metadata": {},
     "output_type": "execute_result"
    },
    {
     "data": {
      "image/png": "[encoded data removed]",
      "text/plain": [
       "<Figure size 432x288 with 1 Axes>"
      ]
     },
     "metadata": {
      "needs_background": "light"
     },
     "output_type": "display_data"
    }
   ],
   "source": [
    "plt.scatter(FullData['Duration'],y=FullData['Distance'])\n",
    "plt.xlabel('Duration')\n",
    "plt.ylabel('Distance')"
   ]
  },
  {
   "cell_type": "code",
   "execution_count": 42,
   "metadata": {},
   "outputs": [],
   "source": [
    "FullData=FullData[FullData.Distance < 500.0]"
   ]
  },
  {
   "cell_type": "code",
   "execution_count": 43,
   "metadata": {},
   "outputs": [
    {
     "data": {
      "text/plain": [
       "Text(0,0.5,'Distance')"
      ]
     },
     "execution_count": 43,
     "metadata": {},
     "output_type": "execute_result"
    },
    {
     "data": {
      "image/png": "[encoded data removed]",
      "text/plain": [
       "<Figure size 432x288 with 1 Axes>"
      ]
     },
     "metadata": {
      "needs_background": "light"
     },
     "output_type": "display_data"
    }
   ],
   "source": [
    "plt.scatter(FullData['Duration'],y=FullData['Distance'])\n",
    "plt.xlabel('Duration')\n",
    "plt.ylabel('Distance')"
   ]
  },
  {
   "cell_type": "code",
   "execution_count": 45,
   "metadata": {},
   "outputs": [],
   "source": [
    "#From the plot we notice that there is an unrealistic data like the points that take more than 650 mins for a short distance.\n",
    "FullData=FullData[FullData.Distance < 300.0]\n",
    "FullData=FullData[FullData.Duration < 650.0]"
   ]
  },
  {
   "cell_type": "code",
   "execution_count": 47,
   "metadata": {},
   "outputs": [
    {
     "data": {
      "text/plain": [
       "Text(0,0.5,'Distance')"
      ]
     },
     "execution_count": 47,
     "metadata": {},
     "output_type": "execute_result"
    },
    {
     "data": {
      "image/png": "[encoded data removed]",
      "text/plain": [
       "<Figure size 432x288 with 1 Axes>"
      ]
     },
     "metadata": {
      "needs_background": "light"
     },
     "output_type": "display_data"
    }
   ],
   "source": [
    "plt.scatter(FullData['Duration'],y=FullData['Distance'])\n",
    "plt.xlabel('Duration')\n",
    "plt.ylabel('Distance')"
   ]
  },
  {
   "cell_type": "code",
   "execution_count": 46,
   "metadata": {},
   "outputs": [
    {
     "data": {
      "text/plain": [
       "0.756650441677236"
      ]
     },
     "execution_count": 46,
     "metadata": {},
     "output_type": "execute_result"
    }
   ],
   "source": [
    "import numpy\n",
    "numpy.corrcoef(FullData['Duration'], FullData['Distance'])[0, 1]"
   ]
  },
  {
   "cell_type": "markdown",
   "metadata": {},
   "source": [
    "The Pearson Coefficient that we got after clenning the data is equal to 0.75 and that meaning there is a strong relationship between the distance and the duration and that is true in the real world."
   ]
  }
 ],
 "metadata": {
  "kernelspec": {
   "display_name": "Python 3",
   "language": "python",
   "name": "python3"
  },
  "language_info": {
   "codemirror_mode": {
    "name": "ipython",
    "version": 3
   },
   "file_extension": ".py",
   "mimetype": "text/x-python",
   "name": "python",
   "nbconvert_exporter": "python",
   "pygments_lexer": "ipython3",
   "version": "3.7.0"
  }
 },
 "nbformat": 4,
 "nbformat_minor": 2
}
